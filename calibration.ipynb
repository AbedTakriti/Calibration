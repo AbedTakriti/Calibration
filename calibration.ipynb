{
 "cells": [
  {
   "cell_type": "code",
   "execution_count": null,
   "outputs": [],
   "source": [
    "import numpy as np\n",
    "from spatialmath import SE3, SO3\n",
    "import sympy as sp\n",
    "from sympy import diff, Matrix, cos, sin\n",
    "from SimpleTranformations import *\n",
    "import numpy as np\n",
    "import roboticstoolbox as rtb\n",
    "from spatialmath import SE3, SO3\n",
    "import sympy as sp\n",
    "from sympy import diff, Matrix\n",
    "from tqdm import tqdm"
   ],
   "metadata": {
    "collapsed": false,
    "pycharm": {
     "name": "#%%\n"
    }
   }
  },
  {
   "cell_type": "code",
   "execution_count": null,
   "outputs": [],
   "source": [
    "setup_symbolic(True)"
   ],
   "metadata": {
    "collapsed": false,
    "pycharm": {
     "name": "#%%\n"
    }
   }
  },
  {
   "cell_type": "code",
   "execution_count": null,
   "outputs": [],
   "source": [
    "rad = np.pi/180\n",
    "q = list(sp.symbols(\"q1:7\"))\n",
    "d = list(sp.symbols(\"d1:9\"))\n",
    "T = tranz(d[0])*(rotz(q[0])*(trany(d[1])*roty(90*rad))) * (roty(q[1])*(trany(d[2])*tranz(d[3]))) * (roty(q[2])*(tranz(d[4])*roty(90*rad))) * (roty(q[3])*(trany(d[5]))) * (rotz(q[4])*(tranz(d[6]))) * (roty(q[5])*trany(d[7])*rotz(90*rad))"
   ],
   "metadata": {
    "collapsed": false,
    "pycharm": {
     "name": "#%%\n"
    }
   }
  },
  {
   "cell_type": "code",
   "execution_count": null,
   "outputs": [],
   "source": [
    "dtheta = 0\n",
    "dlink = 0\n",
    "q1 = (90 + dtheta)* rad\n",
    "q2 = (90 - dtheta)* rad\n",
    "q3 = (90 + dtheta)* rad\n",
    "q4 = (90 - dtheta)* rad\n",
    "q5 = (90 + dtheta)* rad\n",
    "q6 = (90 - dtheta)* rad\n",
    "d1 = 0.1273 + dlink #0.1273\n",
    "d2 = 0.2209 - dlink #-0.176\n",
    "d3 = -0.1719 + dlink #-0.612\n",
    "d4 = 0.612 - dlink #0.128\n",
    "d5 = 0.5723 + dlink #-0.5723\n",
    "d6 = 0.1149 - dlink #-0.2077\n",
    "d7 = 0.1157 + dlink #-0.116\n",
    "d8 = 0.0922 - dlink #-0.092\n",
    "eval(f\"{T}\")"
   ],
   "metadata": {
    "collapsed": false,
    "pycharm": {
     "name": "#%%\n"
    }
   }
  },
  {
   "cell_type": "code",
   "execution_count": null,
   "outputs": [],
   "source": [
    "ideal_robot = rtb.models.URDF.UR10()\n",
    "print(ideal_robot)"
   ],
   "metadata": {
    "collapsed": false,
    "pycharm": {
     "name": "#%%\n"
    }
   }
  },
  {
   "cell_type": "code",
   "execution_count": null,
   "outputs": [],
   "source": [
    "set_point = np.array([np.pi/2, np.pi/2, np.pi/2, np.pi/2, np.pi/2, np.pi/2])*1\n"
   ],
   "metadata": {
    "collapsed": false,
    "pycharm": {
     "name": "#%%\n"
    }
   }
  },
  {
   "cell_type": "code",
   "execution_count": null,
   "outputs": [],
   "source": [
    "# Forward Kinematics for the ideal robot\n",
    "print(\"Robots initial set point: \\n\", ideal_robot.qr)\n",
    "Te = ideal_robot.fkine(set_point)\n",
    "print(\"Forward kinematics of the Robot to initial set point: \\n\", Te)\n",
    "#print(robot.ets())\n",
    "Te_np = np.array(Te)\n",
    "Te_xyz_ideal = Te_np[0:3, 3]\n",
    "Te_xyz_ideal"
   ],
   "metadata": {
    "collapsed": false,
    "pycharm": {
     "name": "#%%\n"
    }
   }
  },
  {
   "cell_type": "code",
   "execution_count": null,
   "outputs": [],
   "source": [
    "d = sp.symbols(\"d\")\n",
    "phi = sp.symbols(\"phi\")\n",
    "HTx = diff(tranx(d))\n",
    "HTy = diff(trany(d))\n",
    "HTz = diff(tranz(d))\n",
    "\n",
    "HRx = diff(rotx(phi)).subs(phi, 0)\n",
    "HRy = diff(roty(phi)).subs(phi, 0)\n",
    "HRz = diff(rotz(phi)).subs(phi, 0)"
   ],
   "metadata": {
    "collapsed": false,
    "pycharm": {
     "name": "#%%\n"
    }
   }
  },
  {
   "cell_type": "code",
   "execution_count": null,
   "outputs": [],
   "source": [
    "#p = np.pi/2\n",
    "p = sp.symbols(\"p\")\n",
    "q = list(sp.symbols(\"q1:7\"))\n",
    "d = list(sp.symbols(\"d1:9\"))"
   ],
   "metadata": {
    "collapsed": false,
    "pycharm": {
     "name": "#%%\n"
    }
   }
  },
  {
   "cell_type": "code",
   "execution_count": null,
   "outputs": [],
   "source": [
    "T_base = tranz(d[0])\n",
    "T_tool = rotz(p)"
   ],
   "metadata": {
    "collapsed": false,
    "pycharm": {
     "name": "#%%\n"
    }
   }
  },
  {
   "cell_type": "code",
   "execution_count": null,
   "outputs": [],
   "source": [
    "T_robot = T_base * sp.simplify(rotz(q[0])*trany(d[1])) * sp.simplify(roty(q[1]+p)*trany(d[2])*tranz(d[3])) * sp.simplify(roty(q[2])*tranz(d[4])) * sp.simplify(roty(q[3]+p)*trany(d[5])) * sp.simplify(rotz(q[4])*tranz(d[6])) * sp.simplify(roty(q[5])*trany(d[7])) * T_tool"
   ],
   "metadata": {
    "collapsed": false,
    "pycharm": {
     "name": "#%%\n"
    }
   }
  },
  {
   "cell_type": "code",
   "execution_count": null,
   "outputs": [],
   "source": [
    "# T_robot = sp.simplify(T_robot)\n",
    "# T_robot"
   ],
   "metadata": {
    "collapsed": false,
    "pycharm": {
     "name": "#%%\n"
    }
   }
  },
  {
   "cell_type": "code",
   "execution_count": null,
   "outputs": [],
   "source": [
    "T_robot_inv = T_tool.inv() * sp.simplify((roty(q[5])*trany(d[7])).inv()) * sp.simplify((rotz(q[4])*tranz(d[6])).inv()) * sp.simplify((roty(q[3]+p)*trany(d[5])).inv()) * sp.simplify((roty(q[2])*tranz(d[4])).inv()) * sp.simplify((roty(q[1]+p)*trany(d[2])*tranz(d[3])).inv()) * sp.simplify((rotz(q[0])*trany(d[1])).inv()) * T_base.inv()"
   ],
   "metadata": {
    "collapsed": false,
    "pycharm": {
     "name": "#%%\n"
    }
   }
  },
  {
   "cell_type": "code",
   "execution_count": null,
   "outputs": [],
   "source": [
    "# T_robot_inv = sp.simplify(T_robot_inv)\n",
    "# T_robot_inv"
   ],
   "metadata": {
    "collapsed": false,
    "pycharm": {
     "name": "#%%\n"
    }
   }
  },
  {
   "cell_type": "code",
   "execution_count": null,
   "outputs": [],
   "source": [
    "dT1 = T_base * rotz(q[0])*HTy*roty(q[1]+p)*trany(d[2])*tranz(d[3])*roty(q[2])*tranz(d[4])*roty(q[3]+p)*trany(d[5])*rotz(q[4])*tranz(d[6])*roty(q[5])*trany(d[7]) * T_tool\n",
    "\n",
    "dT2 = T_base * rotz(q[0])*trany(d[1])*HRy*roty(q[1]+p)*trany(d[2])*tranz(d[3])*roty(q[2])*tranz(d[4])*roty(q[3]+p)*trany(d[5])*rotz(q[4])*tranz(d[6])*roty(q[5])*trany(d[7]) * T_tool\n",
    "\n",
    "dT3 = T_base * rotz(q[0])*trany(d[1])*roty(q[1]+p)*HTy*tranz(d[3])*roty(q[2])*tranz(d[4])*roty(q[3]+p)*trany(d[5])*rotz(q[4])*tranz(d[6])*roty(q[5])*trany(d[7]) * T_tool\n",
    "\n",
    "dT4 = T_base * rotz(q[0])*trany(d[1])*roty(q[1]+p)*trany(d[2])*HTz*roty(q[2])*tranz(d[4])*roty(q[3]+p)*trany(d[5])*rotz(q[4])*tranz(d[6])*roty(q[5])*trany(d[7]) * T_tool\n",
    "\n",
    "dT5 = T_base * rotz(q[0])*trany(d[1])*roty(q[1]+p)*trany(d[2])*tranz(d[3])*HRy*roty(q[2])*tranz(d[4])*roty(q[3]+p)*trany(d[5])*rotz(q[4])*tranz(d[6])*roty(q[5])*trany(d[7]) * T_tool\n",
    "\n",
    "dT6 = T_base * rotz(q[0])*trany(d[1])*roty(q[1]+p)*trany(d[2])*tranz(d[3])*roty(q[2])*HTz*roty(q[3]+p)*trany(d[5])*rotz(q[4])*tranz(d[6])*roty(q[5])*trany(d[7]) * T_tool\n",
    "\n",
    "dT7 = T_base * rotz(q[0])*trany(d[1])*roty(q[1]+p)*trany(d[2])*tranz(d[3])*roty(q[2])*tranz(d[4])*HRy*roty(q[3]+p)*trany(d[5])*rotz(q[4])*tranz(d[6])*roty(q[5])*trany(d[7]) * T_tool\n",
    "\n",
    "dT8 = T_base * rotz(q[0])*trany(d[1])*roty(q[1]+p)*trany(d[2])*tranz(d[3])*roty(q[2])*tranz(d[4])*roty(q[3]+p)*HTy*rotz(q[4])*tranz(d[6])*roty(q[5])*trany(d[7]) * T_tool\n",
    "\n",
    "dT9 = T_base * rotz(q[0])*trany(d[1])*roty(q[1]+p)*trany(d[2])*tranz(d[3])*roty(q[2])*tranz(d[4])*roty(q[3]+p)*trany(d[5])*HRz*rotz(q[4])*tranz(d[6])*roty(q[5])*trany(d[7]) * T_tool\n",
    "\n",
    "dT10 = T_base * rotz(q[0])*trany(d[1])*roty(q[1]+p)*trany(d[2])*tranz(d[3])*roty(q[2])*tranz(d[4])*roty(q[3]+p)*trany(d[5])*rotz(q[4])*HTz*roty(q[5])*trany(d[7]) * T_tool\n",
    "\n",
    "dT11 = T_base * rotz(q[0])*trany(d[1])*roty(q[1]+p)*trany(d[2])*tranz(d[3])*roty(q[2])*tranz(d[4])*roty(q[3]+p)*trany(d[5])*rotz(q[4])*tranz(d[6])*HRy*roty(q[5])*trany(d[7]) * T_tool\n",
    "\n",
    "dT12 = T_base * rotz(q[0])*trany(d[1])*roty(q[1]+p)*trany(d[2])*tranz(d[3])*roty(q[2])*tranz(d[4])*roty(q[3]+p)*trany(d[5])*rotz(q[4])*tranz(d[6])*roty(q[5])*HTy * T_tool"
   ],
   "metadata": {
    "collapsed": false,
    "pycharm": {
     "name": "#%%\n"
    }
   }
  },
  {
   "cell_type": "code",
   "execution_count": null,
   "outputs": [],
   "source": [
    "# dT1 = sp.simplify(dT1)\n",
    "# dT2 = sp.simplify(dT2)\n",
    "# dT3 = sp.simplify(dT3)\n",
    "# dT4 = sp.simplify(dT4)\n",
    "# dT5 = sp.simplify(dT5)\n",
    "# dT6 = sp.simplify(dT6)\n",
    "# dT7 = sp.simplify(dT7)\n",
    "# dT8 = sp.simplify(dT8)\n",
    "# dT9 = sp.simplify(dT9)\n",
    "# dT10 = sp.simplify(dT10)\n",
    "# dT11 = sp.simplify(dT11)\n",
    "# dT12 = sp.simplify(dT12)"
   ],
   "metadata": {
    "collapsed": false,
    "pycharm": {
     "name": "#%%\n"
    }
   }
  },
  {
   "cell_type": "code",
   "execution_count": null,
   "outputs": [],
   "source": [
    "dT = [dT1, dT2, dT3, dT4, dT5, dT6, dT7, dT8, dT9, dT10, dT11, dT12]"
   ],
   "metadata": {
    "collapsed": false,
    "pycharm": {
     "name": "#%%\n"
    }
   }
  },
  {
   "cell_type": "code",
   "execution_count": null,
   "outputs": [],
   "source": [
    "#dT2*T_robot_inv"
   ],
   "metadata": {
    "collapsed": false,
    "pycharm": {
     "name": "#%%\n"
    }
   }
  },
  {
   "cell_type": "code",
   "execution_count": null,
   "outputs": [],
   "source": [
    "J_lin = []\n",
    "for index, content in enumerate(dT):\n",
    "    J_lin.append(content[:3, 3])"
   ],
   "metadata": {
    "collapsed": false,
    "pycharm": {
     "name": "#%%\n"
    }
   }
  },
  {
   "cell_type": "code",
   "execution_count": null,
   "outputs": [],
   "source": [
    "J_lin[2]"
   ],
   "metadata": {
    "collapsed": false,
    "pycharm": {
     "name": "#%%\n"
    }
   }
  },
  {
   "cell_type": "code",
   "execution_count": null,
   "outputs": [],
   "source": [
    "# Linear Jacobian\n",
    "Jac_lin = Matrix.vstack(Matrix.hstack(J_lin[0], J_lin[1], J_lin[2], J_lin[3], J_lin[4], J_lin[5],\n",
    "                                      J_lin[6], J_lin[7], J_lin[8], J_lin[9],J_lin[10], J_lin[11]))\n",
    "Jac_lin"
   ],
   "metadata": {
    "collapsed": false,
    "pycharm": {
     "name": "#%%\n"
    }
   }
  },
  {
   "cell_type": "code",
   "execution_count": null,
   "outputs": [],
   "source": [
    "J_ang = []\n",
    "for i in range(12):\n",
    "    J_ang.append(dT[i]*T_robot_inv)"
   ],
   "metadata": {
    "collapsed": false,
    "pycharm": {
     "name": "#%%\n"
    }
   }
  },
  {
   "cell_type": "code",
   "execution_count": null,
   "outputs": [],
   "source": [
    "J_ang[2]"
   ],
   "metadata": {
    "collapsed": false,
    "pycharm": {
     "name": "#%%\n"
    }
   }
  },
  {
   "cell_type": "code",
   "execution_count": null,
   "outputs": [],
   "source": [
    "def get_w(j):\n",
    "    a = sp.zeros(3,1)\n",
    "    a[0] = j[2, 1]\n",
    "    a[1] = j[0, 2]\n",
    "    a[2] = j[1, 0]\n",
    "    return a\n",
    "\n",
    "J_angl = []\n",
    "for i in range(12):\n",
    "    J_angl.append(get_w(J_ang[i]))"
   ],
   "metadata": {
    "collapsed": false,
    "pycharm": {
     "name": "#%%\n"
    }
   }
  },
  {
   "cell_type": "code",
   "execution_count": null,
   "outputs": [],
   "source": [
    "Jac_ang = Matrix.vstack(Matrix.hstack(J_angl[0], J_angl[1], J_angl[2], J_angl[3], J_angl[4], J_angl[5],\n",
    "                                      J_angl[6], J_angl[7],J_angl[8], J_angl[9], J_angl[10], J_angl[11]))\n",
    "Jac_ang"
   ],
   "metadata": {
    "collapsed": false,
    "pycharm": {
     "name": "#%%\n"
    }
   }
  },
  {
   "cell_type": "code",
   "execution_count": null,
   "outputs": [],
   "source": [
    "Jacobian = Matrix.vstack(Matrix.hstack(J_lin[0], J_lin[1], J_lin[2], J_lin[3], J_lin[4], J_lin[5],\n",
    "                                      J_lin[6], J_lin[7], J_lin[8], J_lin[9],J_lin[10], J_lin[11]),\n",
    "                         Matrix.hstack(J_angl[0], J_angl[1], J_angl[2], J_angl[3], J_angl[4], J_angl[5],\n",
    "                                      J_angl[6], J_angl[7],J_angl[8], J_angl[9], J_angl[10], J_angl[11]))\n",
    "Jacobian"
   ],
   "metadata": {
    "collapsed": false,
    "pycharm": {
     "name": "#%%\n"
    }
   }
  },
  {
   "cell_type": "code",
   "execution_count": null,
   "outputs": [],
   "source": [
    "p = np.pi/2\n",
    "dtheta = 0\n",
    "dlink = 0.01\n",
    "q1 = (0 + dtheta)* rad\n",
    "q2 = (0 - dtheta)* rad\n",
    "q3 = (0 + dtheta)* rad\n",
    "q4 = (0 - dtheta)* rad\n",
    "q5 = (0 + dtheta)* rad\n",
    "q6 = (0 - dtheta)* rad\n",
    "set_point = [q1, q2, q3, q4, q5, q6]\n",
    "d1 = 0.1273 #+ dlink #0.1273\n",
    "d2 = 0.220941  #-0.176\n",
    "d3 = -0.1719  #-0.612\n",
    "d4 = 0.612 + dlink #0.128\n",
    "d5 = 0.5723 + dlink #-0.5723\n",
    "d6 = 0.1149  #-0.2077\n",
    "d7 = 0.1157 - dlink #-0.116\n",
    "d8 = 0.0922 + dlink #-0.092\n",
    "T_real = eval(f\"{T_robot}\")\n",
    "T_real"
   ],
   "metadata": {
    "collapsed": false,
    "pycharm": {
     "name": "#%%\n"
    }
   }
  },
  {
   "cell_type": "code",
   "execution_count": null,
   "outputs": [],
   "source": [
    "T_real[:3, 3]"
   ],
   "metadata": {
    "collapsed": false,
    "pycharm": {
     "name": "#%%\n"
    }
   }
  },
  {
   "cell_type": "code",
   "execution_count": null,
   "outputs": [],
   "source": [
    "practical_robot = rtb.models.URDF.Practical_UR10()\n",
    "print(practical_robot)"
   ],
   "metadata": {
    "collapsed": false,
    "pycharm": {
     "name": "#%%\n"
    }
   }
  },
  {
   "cell_type": "code",
   "execution_count": null,
   "outputs": [],
   "source": [
    "T_practical = practical_robot.fkine(set_point)\n",
    "T_practical"
   ],
   "metadata": {
    "collapsed": false,
    "pycharm": {
     "name": "#%%\n"
    }
   }
  },
  {
   "cell_type": "code",
   "execution_count": null,
   "outputs": [],
   "source": [
    "T_ideal = ideal_robot.fkine(set_point)\n",
    "T_ideal"
   ],
   "metadata": {
    "collapsed": false,
    "pycharm": {
     "name": "#%%\n"
    }
   }
  },
  {
   "cell_type": "code",
   "execution_count": null,
   "outputs": [],
   "source": [
    "def get_pose_orientation():\n",
    "\n",
    "    pass"
   ],
   "metadata": {
    "collapsed": false,
    "pycharm": {
     "name": "#%%\n"
    }
   }
  },
  {
   "cell_type": "code",
   "execution_count": null,
   "outputs": [],
   "source": [
    "T_i = Matrix.vstack(Matrix(T_ideal.t), Matrix(T_ideal.rpy()))\n",
    "T_i"
   ],
   "metadata": {
    "collapsed": false,
    "pycharm": {
     "name": "#%%\n"
    }
   }
  },
  {
   "cell_type": "code",
   "execution_count": null,
   "outputs": [],
   "source": [
    "T_p = Matrix.vstack(Matrix(T_practical.t), Matrix(T_practical.rpy()))\n",
    "T_p"
   ],
   "metadata": {
    "collapsed": false,
    "pycharm": {
     "name": "#%%\n"
    }
   }
  },
  {
   "cell_type": "code",
   "execution_count": null,
   "outputs": [],
   "source": [
    "T_ideal.t.reshape(3, 1)-T_real[:3, 3]"
   ],
   "metadata": {
    "collapsed": false,
    "pycharm": {
     "name": "#%%\n"
    }
   }
  },
  {
   "cell_type": "code",
   "execution_count": null,
   "outputs": [],
   "source": [
    "T_i.reshape(6, 1)-T_p.reshape(6, 1)"
   ],
   "metadata": {
    "collapsed": false,
    "pycharm": {
     "name": "#%%\n"
    }
   }
  },
  {
   "cell_type": "code",
   "execution_count": null,
   "outputs": [],
   "source": [
    "eval(f\"{Jacobian}\").pinv()"
   ],
   "metadata": {
    "collapsed": false,
    "pycharm": {
     "name": "#%%\n"
    }
   }
  },
  {
   "cell_type": "code",
   "execution_count": null,
   "outputs": [],
   "source": [
    "dpi = (eval(f\"{Jacobian}\")).pinv() * (T_i.reshape(6, 1)-T_p.reshape(6, 1))\n",
    "dpi"
   ],
   "metadata": {
    "collapsed": false,
    "pycharm": {
     "name": "#%%\n"
    }
   }
  },
  {
   "cell_type": "code",
   "execution_count": null,
   "outputs": [],
   "source": [
    "dpi[1]"
   ],
   "metadata": {
    "collapsed": false,
    "pycharm": {
     "name": "#%%\n"
    }
   }
  },
  {
   "cell_type": "code",
   "execution_count": null,
   "outputs": [],
   "source": [
    "p = np.pi/2\n",
    "dtheta = 0\n",
    "dlink = 0.01\n",
    "q1 = (0 + dtheta)* rad\n",
    "q2 = (0 - dtheta)* rad + dpi[1]\n",
    "q3 = (0 + dtheta)* rad + dpi[4]\n",
    "q4 = (0 - dtheta)* rad + dpi[6]\n",
    "q5 = (0 + dtheta)* rad + dpi[8]\n",
    "q6 = (0 - dtheta)* rad + dpi[10]\n",
    "set_point = [q1, q2, q3, q4, q5, q6]\n",
    "d1 = 0.1273 #+ dlink #0.1273\n",
    "d2 = 0.2209  + dpi[0] #-0.176\n",
    "d3 = -0.1719  + dpi[2] #-0.612\n",
    "d4 = 0.612 + dlink + dpi[3] #0.128\n",
    "d5 = 0.5723 + dlink + dpi[5] #-0.5723\n",
    "d6 = 0.1149 + dpi[7] #-0.2077\n",
    "d7 = 0.1157 - dlink + dpi[9] #-0.116\n",
    "d8 = 0.0922 + dlink + dpi[11] #-0.092\n",
    "T_real = eval(f\"{T_robot}\")\n",
    "T_real"
   ],
   "metadata": {
    "collapsed": false,
    "pycharm": {
     "name": "#%%\n"
    }
   }
  },
  {
   "cell_type": "code",
   "execution_count": null,
   "outputs": [],
   "source": [
    "T_real[:3, 3]"
   ],
   "metadata": {
    "collapsed": false,
    "pycharm": {
     "name": "#%%\n"
    }
   }
  },
  {
   "cell_type": "code",
   "execution_count": null,
   "outputs": [],
   "source": [
    "T_p"
   ],
   "metadata": {
    "collapsed": false,
    "pycharm": {
     "name": "#%%\n"
    }
   }
  },
  {
   "cell_type": "code",
   "execution_count": null,
   "outputs": [],
   "source": [
    "T_i\n"
   ],
   "metadata": {
    "collapsed": false,
    "pycharm": {
     "name": "#%%\n"
    }
   }
  },
  {
   "cell_type": "markdown",
   "source": [
    "# Error"
   ],
   "metadata": {
    "collapsed": false,
    "pycharm": {
     "name": "#%% md\n"
    }
   }
  },
  {
   "cell_type": "code",
   "execution_count": null,
   "outputs": [],
   "source": [
    "(eval(f\"{Jacobian}\")*dpi - (T_i.reshape(6, 1)-T_p.reshape(6, 1))).T * (eval(f\"{Jacobian}\")*dpi - (T_i.reshape(6, 1)-T_p.reshape(6, 1)))"
   ],
   "metadata": {
    "collapsed": false,
    "pycharm": {
     "name": "#%%\n"
    }
   }
  },
  {
   "cell_type": "markdown",
   "source": [
    "# Desired"
   ],
   "metadata": {
    "collapsed": false,
    "pycharm": {
     "name": "#%% md\n"
    }
   }
  },
  {
   "cell_type": "code",
   "execution_count": null,
   "outputs": [],
   "source": [
    "import matplotlib.pyplot as plt\n",
    "\n",
    "fig = plt.figure()\n",
    "ax = fig.add_subplot(111, projection='3d')\n",
    "\n",
    "theta = np.linspace(0, 2 * np.pi, 360)\n",
    "x = 1*np.cos(theta)\n",
    "y = 1*np.sin(theta)\n",
    "z = 1\n",
    "\n",
    "ax.plot(x, y, z, linewidth=3)\n",
    "\n",
    "plt.xlabel(\"x\")\n",
    "plt.ylabel(\"y\")\n",
    "plt.show()"
   ],
   "metadata": {
    "collapsed": false,
    "pycharm": {
     "name": "#%%\n"
    }
   }
  },
  {
   "cell_type": "code",
   "execution_count": null,
   "outputs": [],
   "source": [
    "len(x)"
   ],
   "metadata": {
    "collapsed": false,
    "pycharm": {
     "name": "#%%\n"
    }
   }
  },
  {
   "cell_type": "markdown",
   "source": [
    "# Calculate Jacobians"
   ],
   "metadata": {
    "collapsed": false,
    "pycharm": {
     "name": "#%% md\n"
    }
   }
  },
  {
   "cell_type": "code",
   "execution_count": null,
   "outputs": [],
   "source": [
    "rad2deg = 180/np.pi\n",
    "desired_joint_angles = []\n",
    "initial_joint_conf = ideal_robot.qr\n",
    "for i in tqdm(range(len(x))):\n",
    "    desired_path = SE3(x[i], y[i], z)\n",
    "    sol = ideal_robot.ikine_LM(desired_path, q0=initial_joint_conf)\n",
    "    #sol = ideal_robot.ik_lm_sugihara(desired_path)\n",
    "    #sol = ideal_robot.ik_lm_chan(desired_path, q0=initial_joint_conf)\n",
    "    q1 = sol[0][0]\n",
    "    q2 = sol[0][1]\n",
    "    q3 = sol[0][2]\n",
    "    q4 = sol[0][3]\n",
    "    q5 = sol[0][4]\n",
    "    q6 = sol[0][5]\n",
    "\n",
    "    d1 = 0.1273 #+ dlink #0.1273\n",
    "    d2 = 0.2209  #+ dpi[0] #-0.176\n",
    "    d3 = -0.1719  #+ dpi[2] #-0.612\n",
    "    d4 = 0.612 + dlink #+ dpi[3] #0.128\n",
    "    d5 = 0.5723 + dlink #+ dpi[5] #-0.5723\n",
    "    d6 = 0.1149 #+ dpi[7] #-0.2077\n",
    "    d7 = 0.1157 - dlink #+ dpi[9] #-0.116\n",
    "    d8 = 0.0922 + dlink #+ dpi[11] #-0.092\n",
    "    try:\n",
    "        if eval(f\"{Jacobian}\").pinv():\n",
    "            desired_joint_angles.append(sol[0])\n",
    "            initial_joint_conf = [q1, q2, q3, q4, q5, q6]\n",
    "    except:\n",
    "            #print(\"No jacobian for \", i)\n",
    "            pass\n",
    "\n"
   ],
   "metadata": {
    "collapsed": false,
    "pycharm": {
     "name": "#%%\n"
    }
   }
  },
  {
   "cell_type": "code",
   "execution_count": null,
   "outputs": [],
   "source": [
    "print(\"Jacobian obtained for \", len(desired_joint_angles), \" points\")"
   ],
   "metadata": {
    "collapsed": false,
    "pycharm": {
     "name": "#%%\n"
    }
   }
  },
  {
   "cell_type": "code",
   "execution_count": null,
   "outputs": [],
   "source": [
    "T_ix = []\n",
    "T_iy = []\n",
    "T_iz = []\n",
    "\n",
    "T_px = []\n",
    "T_py = []\n",
    "T_pz = []\n",
    "\n",
    "T_r = []\n",
    "T_i = []\n",
    "T_p = []\n",
    "dpi = []\n",
    "dlink = 0.01\n",
    "p = np.pi/2\n",
    "for i, data in tqdm(enumerate(desired_joint_angles)):\n",
    "    # Initial desired angles for T_real\n",
    "\n",
    "    q1 = data[0]\n",
    "    q2 = data[1]\n",
    "    q3 = data[2]\n",
    "    q4 = data[3]\n",
    "    q5 = data[4]\n",
    "    q6 = data[5]\n",
    "\n",
    "    d1 = 0.1273 #+ dlink #0.1273\n",
    "    d2 = 0.2209  #+ dpi[0] #-0.176\n",
    "    d3 = -0.1719  #+ dpi[2] #-0.612\n",
    "    d4 = 0.612 + dlink #+ dpi[3] #0.128\n",
    "    d5 = 0.5723 + dlink #+ dpi[5] #-0.5723\n",
    "    d6 = 0.1149 #+ dpi[7] #-0.2077\n",
    "    d7 = 0.1157 - dlink #+ dpi[9] #-0.116\n",
    "    d8 = 0.0922 + dlink #+ dpi[11] #-0.092\n",
    "\n",
    "    set_point = [q1, q2, q3, q4, q5, q6] # set point is for T_practical and T_ideal\n",
    "\n",
    "    T_r.append(eval(f\"{T_robot}\"))\n",
    "    T_practical = practical_robot.fkine(set_point)\n",
    "    T_ideal = ideal_robot.fkine(set_point)\n",
    "\n",
    "    T_i.append(Matrix.vstack(Matrix(T_ideal.t), Matrix(T_ideal.rpy())))\n",
    "    T_ix.append(T_ideal.t[0])\n",
    "    T_iy.append(T_ideal.t[1])\n",
    "    T_iz.append(T_ideal.t[2])\n",
    "    T_px.append(T_practical.t[0])\n",
    "    T_py.append(T_practical.t[1])\n",
    "    T_pz.append(T_practical.t[2])\n",
    "    T_p.append(Matrix.vstack(Matrix(T_practical.t), Matrix(T_practical.rpy())))\n",
    "    #print(i)\n",
    "\n",
    "    dpi.append((eval(f\"{Jacobian}\")).pinv() * (np.array(T_i[i]).reshape(6, 1)-np.array(T_p[i]).reshape(6, 1)))\n",
    "\n",
    "\n",
    "    #print(i)"
   ],
   "metadata": {
    "collapsed": false,
    "pycharm": {
     "name": "#%%\n"
    }
   }
  },
  {
   "cell_type": "markdown",
   "source": [
    "# Get calibrated values"
   ],
   "metadata": {
    "collapsed": false,
    "pycharm": {
     "name": "#%% md\n"
    }
   }
  },
  {
   "cell_type": "code",
   "execution_count": null,
   "outputs": [],
   "source": [
    "T_calibx = []\n",
    "T_caliby = []\n",
    "T_calibz = []\n",
    "T_calib = []\n",
    "for i, dp in enumerate(tqdm(dpi)):\n",
    "    p = np.pi/2\n",
    "    dtheta = 0\n",
    "    dlink = 0.01\n",
    "    q1 = desired_joint_angles[i][0]\n",
    "    q2 = desired_joint_angles[i][1]  + dp[1]\n",
    "    q3 = desired_joint_angles[i][2]  + dp[4]\n",
    "    q4 = desired_joint_angles[i][3]  + dp[6]\n",
    "    q5 = desired_joint_angles[i][4]  + dp[8]\n",
    "    q6 = desired_joint_angles[i][5]  + dp[10]\n",
    "    set_point = [q1, q2, q3, q4, q5, q6]\n",
    "    d1 = 0.1273 #+ dlink #0.1273\n",
    "    d2 = 0.2209  + dp[0] #-0.176\n",
    "    d3 = -0.1719  + dp[2] #-0.612\n",
    "    d4 = 0.612 + dlink + dp[3] #0.128\n",
    "    d5 = 0.5723 + dlink + dp[5] #-0.5723\n",
    "    d6 = 0.1149 + dp[7] #-0.2077\n",
    "    d7 = 0.1157 - dlink + dp[9] #-0.116\n",
    "    d8 = 0.0922 + dlink + dp[11] #-0.092\n",
    "    T_calib.append(eval(f\"{T_robot}\"))\n",
    "    T_calibx.append(T_calib[i][0, 3])\n",
    "    T_caliby.append(T_calib[i][1, 3])\n",
    "    T_calibz.append(T_calib[i][2, 3])\n",
    "    #print(i)"
   ],
   "metadata": {
    "collapsed": false,
    "pycharm": {
     "name": "#%%\n"
    }
   }
  },
  {
   "cell_type": "markdown",
   "source": [
    "# Calibrated robots end-effector transofrmation"
   ],
   "metadata": {
    "collapsed": false,
    "pycharm": {
     "name": "#%% md\n"
    }
   }
  },
  {
   "cell_type": "code",
   "execution_count": null,
   "outputs": [],
   "source": [
    "T_calib[0][:, 3]"
   ],
   "metadata": {
    "collapsed": false,
    "pycharm": {
     "name": "#%%\n"
    }
   }
  },
  {
   "cell_type": "markdown",
   "source": [
    "# Practical robots end-effector (The uncalibrated robot)"
   ],
   "metadata": {
    "collapsed": false,
    "pycharm": {
     "name": "#%% md\n"
    }
   }
  },
  {
   "cell_type": "code",
   "execution_count": null,
   "outputs": [],
   "source": [
    "T_p[0]"
   ],
   "metadata": {
    "collapsed": false,
    "pycharm": {
     "name": "#%%\n"
    }
   }
  },
  {
   "cell_type": "markdown",
   "source": [
    "# Ideal robots end-effector (The theoritical robot)"
   ],
   "metadata": {
    "collapsed": false,
    "pycharm": {
     "name": "#%% md\n"
    }
   }
  },
  {
   "cell_type": "code",
   "execution_count": null,
   "outputs": [],
   "source": [
    "T_i[0]"
   ],
   "metadata": {
    "collapsed": false,
    "pycharm": {
     "name": "#%%\n"
    }
   }
  },
  {
   "cell_type": "markdown",
   "source": [
    "# See how the calibrated robots ee position is close to the ideal robot,\n",
    "# Hence we can say that the robot is calibrated geometrically"
   ],
   "metadata": {
    "collapsed": false,
    "pycharm": {
     "name": "#%% md\n"
    }
   }
  },
  {
   "cell_type": "code",
   "execution_count": null,
   "outputs": [],
   "source": [
    "fig = plt.figure()\n",
    "ax = fig.add_subplot(111, projection='3d')\n",
    "\n",
    "theta = np.linspace(0, 2 * np.pi, 100)\n",
    "x = 1*np.cos(theta)\n",
    "y = 1*np.sin(theta)\n",
    "z = 1\n",
    "#ax.plot(x, y, z)\n",
    "ax.plot(T_calibx, T_caliby, T_calibz, color=\"b\", linewidth=2)\n",
    "#ax.plot(T_calibx[54:], T_caliby[54:], T_calibz[54:], color=\"b\")\n",
    "ax.plot(T_ix, T_iy, T_iz, color=\"r\", linewidth=2)\n",
    "ax.plot(T_px, T_py, T_pz, color=\"g\", linewidth=2)\n",
    "\n",
    "ax.set_xlim(-1, 1)\n",
    "ax.set_ylim(-1, 1)\n",
    "ax.set_zlim(0, 1)\n",
    "plt.xlabel(\"x\")\n",
    "plt.ylabel(\"y\")\n",
    "ax.view_init(30, 35)\n",
    "plt.show()"
   ],
   "metadata": {
    "collapsed": false,
    "pycharm": {
     "name": "#%%\n"
    }
   }
  },
  {
   "cell_type": "code",
   "execution_count": null,
   "outputs": [],
   "source": [
    "# Trajectory using inverse kinematic solution for practical robot\n",
    "%matplotlib notebook\n",
    "qt = []\n",
    "last_point = practical_robot.qr\n",
    "a = last_point\n",
    "for i, n in enumerate(tqdm(desired_joint_angles)):\n",
    "    a = np.row_stack((a, rtb.jtraj(last_point, n, 1).q))\n",
    "    last_point = n\n",
    "practical_robot.plot(a, backend=\"pyplot\", movie=\"calibrated.gif\")\n",
    "#practical_robot.plot(a, backend=\"swift\")"
   ],
   "metadata": {
    "collapsed": false,
    "pycharm": {
     "name": "#%%\n"
    }
   }
  },
  {
   "cell_type": "code",
   "execution_count": null,
   "outputs": [],
   "source": [
    "a = np.row_stack((rtb.jtraj(last_point, n, 1).q, rtb.jtraj(last_point, n, 1).q))\n",
    "a"
   ],
   "metadata": {
    "collapsed": false,
    "pycharm": {
     "name": "#%%\n"
    }
   }
  },
  {
   "cell_type": "code",
   "execution_count": null,
   "outputs": [],
   "source": [],
   "metadata": {
    "collapsed": false,
    "pycharm": {
     "name": "#%%\n"
    }
   }
  },
  {
   "cell_type": "code",
   "execution_count": 71,
   "outputs": [
    {
     "data": {
      "text/plain": "Matrix([\n[  0.885457400759515],\n[-0.0348530301180505],\n[  0.686426250795403],\n[    3.0999197220943],\n[  0.748939982894146],\n[   3.07801755312484]])",
      "text/latex": "$\\displaystyle \\left[\\begin{matrix}0.885457400759515\\\\-0.0348530301180505\\\\0.686426250795403\\\\3.0999197220943\\\\0.748939982894146\\\\3.07801755312484\\end{matrix}\\right]$"
     },
     "execution_count": 71,
     "metadata": {},
     "output_type": "execute_result"
    }
   ],
   "source": [
    "T_i[0]"
   ],
   "metadata": {
    "collapsed": false,
    "pycharm": {
     "name": "#%%\n"
    }
   }
  },
  {
   "cell_type": "markdown",
   "source": [
    "# See how the calibrated robots ee position is close to the ideal robot,\n",
    "# Hence we can say that the robot is calibrated geometrically"
   ],
   "metadata": {
    "collapsed": false,
    "pycharm": {
     "name": "#%% md\n"
    }
   }
  },
  {
   "cell_type": "code",
   "execution_count": 72,
   "outputs": [
    {
     "data": {
      "text/plain": "<Figure size 640x480 with 1 Axes>",
      "image/png": "[encoded data removed]"
     },
     "metadata": {},
     "output_type": "display_data"
    }
   ],
   "source": [
    "fig = plt.figure()\n",
    "ax = fig.add_subplot(111, projection='3d')\n",
    "\n",
    "theta = np.linspace(0, 2 * np.pi, 100)\n",
    "x = 1*np.cos(theta)\n",
    "y = 1*np.sin(theta)\n",
    "z = 1\n",
    "#ax.plot(x, y, z)\n",
    "ax.plot(T_calibx, T_caliby, T_calibz, color=\"b\", linewidth=2)\n",
    "#ax.plot(T_calibx[54:], T_caliby[54:], T_calibz[54:], color=\"b\")\n",
    "ax.plot(T_ix, T_iy, T_iz, color=\"r\", linewidth=2)\n",
    "ax.plot(T_px, T_py, T_pz, color=\"g\", linewidth=2)\n",
    "\n",
    "ax.set_xlim(-1, 1)\n",
    "ax.set_ylim(-1, 1)\n",
    "ax.set_zlim(0, 1)\n",
    "plt.xlabel(\"x\")\n",
    "plt.ylabel(\"y\")\n",
    "ax.view_init(30, 35)\n",
    "plt.show()"
   ],
   "metadata": {
    "collapsed": false,
    "pycharm": {
     "name": "#%%\n"
    }
   }
  },
  {
   "cell_type": "code",
   "execution_count": 75,
   "outputs": [
    {
     "name": "stderr",
     "output_type": "stream",
     "text": [
      "100%|██████████| 298/298 [00:00<00:00, 8520.13it/s]\n"
     ]
    },
    {
     "data": {
      "text/plain": "<IPython.core.display.Javascript object>",
      "application/javascript": "/* Put everything inside the global mpl namespace */\n/* global mpl */\nwindow.mpl = {};\n\nmpl.get_websocket_type = function () {\n    if (typeof WebSocket !== 'undefined') {\n        return WebSocket;\n    } else if (typeof MozWebSocket !== 'undefined') {\n        return MozWebSocket;\n    } else {\n        alert(\n            'Your browser does not have WebSocket support. ' +\n                'Please try Chrome, Safari or Firefox ≥ 6. ' +\n                'Firefox 4 and 5 are also supported but you ' +\n                'have to enable WebSockets in about:config.'\n        );\n    }\n};\n\nmpl.figure = function (figure_id, websocket, ondownload, parent_element) {\n    this.id = figure_id;\n\n    this.ws = websocket;\n\n    this.supports_binary = this.ws.binaryType !== undefined;\n\n    if (!this.supports_binary) {\n        var warnings = document.getElementById('mpl-warnings');\n        if (warnings) {\n            warnings.style.display = 'block';\n            warnings.textContent =\n                'This browser does not support binary websocket messages. ' +\n                'Performance may be slow.';\n        }\n    }\n\n    this.imageObj = new Image();\n\n    this.context = undefined;\n    this.message = undefined;\n    this.canvas = undefined;\n    this.rubberband_canvas = undefined;\n    this.rubberband_context = undefined;\n    this.format_dropdown = undefined;\n\n    this.image_mode = 'full';\n\n    this.root = document.createElement('div');\n    this.root.setAttribute('style', 'display: inline-block');\n    this._root_extra_style(this.root);\n\n    parent_element.appendChild(this.root);\n\n    this._init_header(this);\n    this._init_canvas(this);\n    this._init_toolbar(this);\n\n    var fig = this;\n\n    this.waiting = false;\n\n    this.ws.onopen = function () {\n        fig.send_message('supports_binary', { value: fig.supports_binary });\n        fig.send_message('send_image_mode', {});\n        if (fig.ratio !== 1) {\n            fig.send_message('set_device_pixel_ratio', {\n                device_pixel_ratio: fig.ratio,\n            });\n        }\n        fig.send_message('refresh', {});\n    };\n\n    this.imageObj.onload = function () {\n        if (fig.image_mode === 'full') {\n            // Full images could contain transparency (where diff images\n            // almost always do), so we need to clear the canvas so that\n            // there is no ghosting.\n            fig.context.clearRect(0, 0, fig.canvas.width, fig.canvas.height);\n        }\n        fig.context.drawImage(fig.imageObj, 0, 0);\n    };\n\n    this.imageObj.onunload = function () {\n        fig.ws.close();\n    };\n\n    this.ws.onmessage = this._make_on_message_function(this);\n\n    this.ondownload = ondownload;\n};\n\nmpl.figure.prototype._init_header = function () {\n    var titlebar = document.createElement('div');\n    titlebar.classList =\n        'ui-dialog-titlebar ui-widget-header ui-corner-all ui-helper-clearfix';\n    var titletext = document.createElement('div');\n    titletext.classList = 'ui-dialog-title';\n    titletext.setAttribute(\n        'style',\n        'width: 100%; text-align: center; padding: 3px;'\n    );\n    titlebar.appendChild(titletext);\n    this.root.appendChild(titlebar);\n    this.header = titletext;\n};\n\nmpl.figure.prototype._canvas_extra_style = function (_canvas_div) {};\n\nmpl.figure.prototype._root_extra_style = function (_canvas_div) {};\n\nmpl.figure.prototype._init_canvas = function () {\n    var fig = this;\n\n    var canvas_div = (this.canvas_div = document.createElement('div'));\n    canvas_div.setAttribute(\n        'style',\n        'border: 1px solid #ddd;' +\n            'box-sizing: content-box;' +\n            'clear: both;' +\n            'min-height: 1px;' +\n            'min-width: 1px;' +\n            'outline: 0;' +\n            'overflow: hidden;' +\n            'position: relative;' +\n            'resize: both;'\n    );\n\n    function on_keyboard_event_closure(name) {\n        return function (event) {\n            return fig.key_event(event, name);\n        };\n    }\n\n    canvas_div.addEventListener(\n        'keydown',\n        on_keyboard_event_closure('key_press')\n    );\n    canvas_div.addEventListener(\n        'keyup',\n        on_keyboard_event_closure('key_release')\n    );\n\n    this._canvas_extra_style(canvas_div);\n    this.root.appendChild(canvas_div);\n\n    var canvas = (this.canvas = document.createElement('canvas'));\n    canvas.classList.add('mpl-canvas');\n    canvas.setAttribute('style', 'box-sizing: content-box;');\n\n    this.context = canvas.getContext('2d');\n\n    var backingStore =\n        this.context.backingStorePixelRatio ||\n        this.context.webkitBackingStorePixelRatio ||\n        this.context.mozBackingStorePixelRatio ||\n        this.context.msBackingStorePixelRatio ||\n        this.context.oBackingStorePixelRatio ||\n        this.context.backingStorePixelRatio ||\n        1;\n\n    this.ratio = (window.devicePixelRatio || 1) / backingStore;\n\n    var rubberband_canvas = (this.rubberband_canvas = document.createElement(\n        'canvas'\n    ));\n    rubberband_canvas.setAttribute(\n        'style',\n        'box-sizing: content-box; position: absolute; left: 0; top: 0; z-index: 1;'\n    );\n\n    // Apply a ponyfill if ResizeObserver is not implemented by browser.\n    if (this.ResizeObserver === undefined) {\n        if (window.ResizeObserver !== undefined) {\n            this.ResizeObserver = window.ResizeObserver;\n        } else {\n            var obs = _JSXTOOLS_RESIZE_OBSERVER({});\n            this.ResizeObserver = obs.ResizeObserver;\n        }\n    }\n\n    this.resizeObserverInstance = new this.ResizeObserver(function (entries) {\n        var nentries = entries.length;\n        for (var i = 0; i < nentries; i++) {\n            var entry = entries[i];\n            var width, height;\n            if (entry.contentBoxSize) {\n                if (entry.contentBoxSize instanceof Array) {\n                    // Chrome 84 implements new version of spec.\n                    width = entry.contentBoxSize[0].inlineSize;\n                    height = entry.contentBoxSize[0].blockSize;\n                } else {\n                    // Firefox implements old version of spec.\n                    width = entry.contentBoxSize.inlineSize;\n                    height = entry.contentBoxSize.blockSize;\n                }\n            } else {\n                // Chrome <84 implements even older version of spec.\n                width = entry.contentRect.width;\n                height = entry.contentRect.height;\n            }\n\n            // Keep the size of the canvas and rubber band canvas in sync with\n            // the canvas container.\n            if (entry.devicePixelContentBoxSize) {\n                // Chrome 84 implements new version of spec.\n                canvas.setAttribute(\n                    'width',\n                    entry.devicePixelContentBoxSize[0].inlineSize\n                );\n                canvas.setAttribute(\n                    'height',\n                    entry.devicePixelContentBoxSize[0].blockSize\n                );\n            } else {\n                canvas.setAttribute('width', width * fig.ratio);\n                canvas.setAttribute('height', height * fig.ratio);\n            }\n            canvas.setAttribute(\n                'style',\n                'width: ' + width + 'px; height: ' + height + 'px;'\n            );\n\n            rubberband_canvas.setAttribute('width', width);\n            rubberband_canvas.setAttribute('height', height);\n\n            // And update the size in Python. We ignore the initial 0/0 size\n            // that occurs as the element is placed into the DOM, which should\n            // otherwise not happen due to the minimum size styling.\n            if (fig.ws.readyState == 1 && width != 0 && height != 0) {\n                fig.request_resize(width, height);\n            }\n        }\n    });\n    this.resizeObserverInstance.observe(canvas_div);\n\n    function on_mouse_event_closure(name) {\n        return function (event) {\n            return fig.mouse_event(event, name);\n        };\n    }\n\n    rubberband_canvas.addEventListener(\n        'mousedown',\n        on_mouse_event_closure('button_press')\n    );\n    rubberband_canvas.addEventListener(\n        'mouseup',\n        on_mouse_event_closure('button_release')\n    );\n    rubberband_canvas.addEventListener(\n        'dblclick',\n        on_mouse_event_closure('dblclick')\n    );\n    // Throttle sequential mouse events to 1 every 20ms.\n    rubberband_canvas.addEventListener(\n        'mousemove',\n        on_mouse_event_closure('motion_notify')\n    );\n\n    rubberband_canvas.addEventListener(\n        'mouseenter',\n        on_mouse_event_closure('figure_enter')\n    );\n    rubberband_canvas.addEventListener(\n        'mouseleave',\n        on_mouse_event_closure('figure_leave')\n    );\n\n    canvas_div.addEventListener('wheel', function (event) {\n        if (event.deltaY < 0) {\n            event.step = 1;\n        } else {\n            event.step = -1;\n        }\n        on_mouse_event_closure('scroll')(event);\n    });\n\n    canvas_div.appendChild(canvas);\n    canvas_div.appendChild(rubberband_canvas);\n\n    this.rubberband_context = rubberband_canvas.getContext('2d');\n    this.rubberband_context.strokeStyle = '#000000';\n\n    this._resize_canvas = function (width, height, forward) {\n        if (forward) {\n            canvas_div.style.width = width + 'px';\n            canvas_div.style.height = height + 'px';\n        }\n    };\n\n    // Disable right mouse context menu.\n    this.rubberband_canvas.addEventListener('contextmenu', function (_e) {\n        event.preventDefault();\n        return false;\n    });\n\n    function set_focus() {\n        canvas.focus();\n        canvas_div.focus();\n    }\n\n    window.setTimeout(set_focus, 100);\n};\n\nmpl.figure.prototype._init_toolbar = function () {\n    var fig = this;\n\n    var toolbar = document.createElement('div');\n    toolbar.classList = 'mpl-toolbar';\n    this.root.appendChild(toolbar);\n\n    function on_click_closure(name) {\n        return function (_event) {\n            return fig.toolbar_button_onclick(name);\n        };\n    }\n\n    function on_mouseover_closure(tooltip) {\n        return function (event) {\n            if (!event.currentTarget.disabled) {\n                return fig.toolbar_button_onmouseover(tooltip);\n            }\n        };\n    }\n\n    fig.buttons = {};\n    var buttonGroup = document.createElement('div');\n    buttonGroup.classList = 'mpl-button-group';\n    for (var toolbar_ind in mpl.toolbar_items) {\n        var name = mpl.toolbar_items[toolbar_ind][0];\n        var tooltip = mpl.toolbar_items[toolbar_ind][1];\n        var image = mpl.toolbar_items[toolbar_ind][2];\n        var method_name = mpl.toolbar_items[toolbar_ind][3];\n\n        if (!name) {\n            /* Instead of a spacer, we start a new button group. */\n            if (buttonGroup.hasChildNodes()) {\n                toolbar.appendChild(buttonGroup);\n            }\n            buttonGroup = document.createElement('div');\n            buttonGroup.classList = 'mpl-button-group';\n            continue;\n        }\n\n        var button = (fig.buttons[name] = document.createElement('button'));\n        button.classList = 'mpl-widget';\n        button.setAttribute('role', 'button');\n        button.setAttribute('aria-disabled', 'false');\n        button.addEventListener('click', on_click_closure(method_name));\n        button.addEventListener('mouseover', on_mouseover_closure(tooltip));\n\n        var icon_img = document.createElement('img');\n        icon_img.src = '_images/' + image + '.png';\n        icon_img.srcset = '_images/' + image + '_large.png 2x';\n        icon_img.alt = tooltip;\n        button.appendChild(icon_img);\n\n        buttonGroup.appendChild(button);\n    }\n\n    if (buttonGroup.hasChildNodes()) {\n        toolbar.appendChild(buttonGroup);\n    }\n\n    var fmt_picker = document.createElement('select');\n    fmt_picker.classList = 'mpl-widget';\n    toolbar.appendChild(fmt_picker);\n    this.format_dropdown = fmt_picker;\n\n    for (var ind in mpl.extensions) {\n        var fmt = mpl.extensions[ind];\n        var option = document.createElement('option');\n        option.selected = fmt === mpl.default_extension;\n        option.innerHTML = fmt;\n        fmt_picker.appendChild(option);\n    }\n\n    var status_bar = document.createElement('span');\n    status_bar.classList = 'mpl-message';\n    toolbar.appendChild(status_bar);\n    this.message = status_bar;\n};\n\nmpl.figure.prototype.request_resize = function (x_pixels, y_pixels) {\n    // Request matplotlib to resize the figure. Matplotlib will then trigger a resize in the client,\n    // which will in turn request a refresh of the image.\n    this.send_message('resize', { width: x_pixels, height: y_pixels });\n};\n\nmpl.figure.prototype.send_message = function (type, properties) {\n    properties['type'] = type;\n    properties['figure_id'] = this.id;\n    this.ws.send(JSON.stringify(properties));\n};\n\nmpl.figure.prototype.send_draw_message = function () {\n    if (!this.waiting) {\n        this.waiting = true;\n        this.ws.send(JSON.stringify({ type: 'draw', figure_id: this.id }));\n    }\n};\n\nmpl.figure.prototype.handle_save = function (fig, _msg) {\n    var format_dropdown = fig.format_dropdown;\n    var format = format_dropdown.options[format_dropdown.selectedIndex].value;\n    fig.ondownload(fig, format);\n};\n\nmpl.figure.prototype.handle_resize = function (fig, msg) {\n    var size = msg['size'];\n    if (size[0] !== fig.canvas.width || size[1] !== fig.canvas.height) {\n        fig._resize_canvas(size[0], size[1], msg['forward']);\n        fig.send_message('refresh', {});\n    }\n};\n\nmpl.figure.prototype.handle_rubberband = function (fig, msg) {\n    var x0 = msg['x0'] / fig.ratio;\n    var y0 = (fig.canvas.height - msg['y0']) / fig.ratio;\n    var x1 = msg['x1'] / fig.ratio;\n    var y1 = (fig.canvas.height - msg['y1']) / fig.ratio;\n    x0 = Math.floor(x0) + 0.5;\n    y0 = Math.floor(y0) + 0.5;\n    x1 = Math.floor(x1) + 0.5;\n    y1 = Math.floor(y1) + 0.5;\n    var min_x = Math.min(x0, x1);\n    var min_y = Math.min(y0, y1);\n    var width = Math.abs(x1 - x0);\n    var height = Math.abs(y1 - y0);\n\n    fig.rubberband_context.clearRect(\n        0,\n        0,\n        fig.canvas.width / fig.ratio,\n        fig.canvas.height / fig.ratio\n    );\n\n    fig.rubberband_context.strokeRect(min_x, min_y, width, height);\n};\n\nmpl.figure.prototype.handle_figure_label = function (fig, msg) {\n    // Updates the figure title.\n    fig.header.textContent = msg['label'];\n};\n\nmpl.figure.prototype.handle_cursor = function (fig, msg) {\n    fig.rubberband_canvas.style.cursor = msg['cursor'];\n};\n\nmpl.figure.prototype.handle_message = function (fig, msg) {\n    fig.message.textContent = msg['message'];\n};\n\nmpl.figure.prototype.handle_draw = function (fig, _msg) {\n    // Request the server to send over a new figure.\n    fig.send_draw_message();\n};\n\nmpl.figure.prototype.handle_image_mode = function (fig, msg) {\n    fig.image_mode = msg['mode'];\n};\n\nmpl.figure.prototype.handle_history_buttons = function (fig, msg) {\n    for (var key in msg) {\n        if (!(key in fig.buttons)) {\n            continue;\n        }\n        fig.buttons[key].disabled = !msg[key];\n        fig.buttons[key].setAttribute('aria-disabled', !msg[key]);\n    }\n};\n\nmpl.figure.prototype.handle_navigate_mode = function (fig, msg) {\n    if (msg['mode'] === 'PAN') {\n        fig.buttons['Pan'].classList.add('active');\n        fig.buttons['Zoom'].classList.remove('active');\n    } else if (msg['mode'] === 'ZOOM') {\n        fig.buttons['Pan'].classList.remove('active');\n        fig.buttons['Zoom'].classList.add('active');\n    } else {\n        fig.buttons['Pan'].classList.remove('active');\n        fig.buttons['Zoom'].classList.remove('active');\n    }\n};\n\nmpl.figure.prototype.updated_canvas_event = function () {\n    // Called whenever the canvas gets updated.\n    this.send_message('ack', {});\n};\n\n// A function to construct a web socket function for onmessage handling.\n// Called in the figure constructor.\nmpl.figure.prototype._make_on_message_function = function (fig) {\n    return function socket_on_message(evt) {\n        if (evt.data instanceof Blob) {\n            var img = evt.data;\n            if (img.type !== 'image/png') {\n                /* FIXME: We get \"Resource interpreted as Image but\n                 * transferred with MIME type text/plain:\" errors on\n                 * Chrome.  But how to set the MIME type?  It doesn't seem\n                 * to be part of the websocket stream */\n                img.type = 'image/png';\n            }\n\n            /* Free the memory for the previous frames */\n            if (fig.imageObj.src) {\n                (window.URL || window.webkitURL).revokeObjectURL(\n                    fig.imageObj.src\n                );\n            }\n\n            fig.imageObj.src = (window.URL || window.webkitURL).createObjectURL(\n                img\n            );\n            fig.updated_canvas_event();\n            fig.waiting = false;\n            return;\n        } else if (\n            typeof evt.data === 'string' &&\n            evt.data.slice(0, 21) === 'data:image/png;base64'\n        ) {\n            fig.imageObj.src = evt.data;\n            fig.updated_canvas_event();\n            fig.waiting = false;\n            return;\n        }\n\n        var msg = JSON.parse(evt.data);\n        var msg_type = msg['type'];\n\n        // Call the  \"handle_{type}\" callback, which takes\n        // the figure and JSON message as its only arguments.\n        try {\n            var callback = fig['handle_' + msg_type];\n        } catch (e) {\n            console.log(\n                \"No handler for the '\" + msg_type + \"' message type: \",\n                msg\n            );\n            return;\n        }\n\n        if (callback) {\n            try {\n                // console.log(\"Handling '\" + msg_type + \"' message: \", msg);\n                callback(fig, msg);\n            } catch (e) {\n                console.log(\n                    \"Exception inside the 'handler_\" + msg_type + \"' callback:\",\n                    e,\n                    e.stack,\n                    msg\n                );\n            }\n        }\n    };\n};\n\n// from https://stackoverflow.com/questions/1114465/getting-mouse-location-in-canvas\nmpl.findpos = function (e) {\n    //this section is from http://www.quirksmode.org/js/events_properties.html\n    var targ;\n    if (!e) {\n        e = window.event;\n    }\n    if (e.target) {\n        targ = e.target;\n    } else if (e.srcElement) {\n        targ = e.srcElement;\n    }\n    if (targ.nodeType === 3) {\n        // defeat Safari bug\n        targ = targ.parentNode;\n    }\n\n    // pageX,Y are the mouse positions relative to the document\n    var boundingRect = targ.getBoundingClientRect();\n    var x = e.pageX - (boundingRect.left + document.body.scrollLeft);\n    var y = e.pageY - (boundingRect.top + document.body.scrollTop);\n\n    return { x: x, y: y };\n};\n\n/*\n * return a copy of an object with only non-object keys\n * we need this to avoid circular references\n * https://stackoverflow.com/a/24161582/3208463\n */\nfunction simpleKeys(original) {\n    return Object.keys(original).reduce(function (obj, key) {\n        if (typeof original[key] !== 'object') {\n            obj[key] = original[key];\n        }\n        return obj;\n    }, {});\n}\n\nmpl.figure.prototype.mouse_event = function (event, name) {\n    var canvas_pos = mpl.findpos(event);\n\n    if (name === 'button_press') {\n        this.canvas.focus();\n        this.canvas_div.focus();\n    }\n\n    var x = canvas_pos.x * this.ratio;\n    var y = canvas_pos.y * this.ratio;\n\n    this.send_message(name, {\n        x: x,\n        y: y,\n        button: event.button,\n        step: event.step,\n        guiEvent: simpleKeys(event),\n    });\n\n    /* This prevents the web browser from automatically changing to\n     * the text insertion cursor when the button is pressed.  We want\n     * to control all of the cursor setting manually through the\n     * 'cursor' event from matplotlib */\n    event.preventDefault();\n    return false;\n};\n\nmpl.figure.prototype._key_event_extra = function (_event, _name) {\n    // Handle any extra behaviour associated with a key event\n};\n\nmpl.figure.prototype.key_event = function (event, name) {\n    // Prevent repeat events\n    if (name === 'key_press') {\n        if (event.key === this._key) {\n            return;\n        } else {\n            this._key = event.key;\n        }\n    }\n    if (name === 'key_release') {\n        this._key = null;\n    }\n\n    var value = '';\n    if (event.ctrlKey && event.key !== 'Control') {\n        value += 'ctrl+';\n    }\n    else if (event.altKey && event.key !== 'Alt') {\n        value += 'alt+';\n    }\n    else if (event.shiftKey && event.key !== 'Shift') {\n        value += 'shift+';\n    }\n\n    value += 'k' + event.key;\n\n    this._key_event_extra(event, name);\n\n    this.send_message(name, { key: value, guiEvent: simpleKeys(event) });\n    return false;\n};\n\nmpl.figure.prototype.toolbar_button_onclick = function (name) {\n    if (name === 'download') {\n        this.handle_save(this, null);\n    } else {\n        this.send_message('toolbar_button', { name: name });\n    }\n};\n\nmpl.figure.prototype.toolbar_button_onmouseover = function (tooltip) {\n    this.message.textContent = tooltip;\n};\n\n///////////////// REMAINING CONTENT GENERATED BY embed_js.py /////////////////\n// prettier-ignore\nvar _JSXTOOLS_RESIZE_OBSERVER=function(A){var t,i=new WeakMap,n=new WeakMap,a=new WeakMap,r=new WeakMap,o=new Set;function s(e){if(!(this instanceof s))throw new TypeError(\"Constructor requires 'new' operator\");i.set(this,e)}function h(){throw new TypeError(\"Function is not a constructor\")}function c(e,t,i,n){e=0 in arguments?Number(arguments[0]):0,t=1 in arguments?Number(arguments[1]):0,i=2 in arguments?Number(arguments[2]):0,n=3 in arguments?Number(arguments[3]):0,this.right=(this.x=this.left=e)+(this.width=i),this.bottom=(this.y=this.top=t)+(this.height=n),Object.freeze(this)}function d(){t=requestAnimationFrame(d);var s=new WeakMap,p=new Set;o.forEach((function(t){r.get(t).forEach((function(i){var r=t instanceof window.SVGElement,o=a.get(t),d=r?0:parseFloat(o.paddingTop),f=r?0:parseFloat(o.paddingRight),l=r?0:parseFloat(o.paddingBottom),u=r?0:parseFloat(o.paddingLeft),g=r?0:parseFloat(o.borderTopWidth),m=r?0:parseFloat(o.borderRightWidth),w=r?0:parseFloat(o.borderBottomWidth),b=u+f,F=d+l,v=(r?0:parseFloat(o.borderLeftWidth))+m,W=g+w,y=r?0:t.offsetHeight-W-t.clientHeight,E=r?0:t.offsetWidth-v-t.clientWidth,R=b+v,z=F+W,M=r?t.width:parseFloat(o.width)-R-E,O=r?t.height:parseFloat(o.height)-z-y;if(n.has(t)){var k=n.get(t);if(k[0]===M&&k[1]===O)return}n.set(t,[M,O]);var S=Object.create(h.prototype);S.target=t,S.contentRect=new c(u,d,M,O),s.has(i)||(s.set(i,[]),p.add(i)),s.get(i).push(S)}))})),p.forEach((function(e){i.get(e).call(e,s.get(e),e)}))}return s.prototype.observe=function(i){if(i instanceof window.Element){r.has(i)||(r.set(i,new Set),o.add(i),a.set(i,window.getComputedStyle(i)));var n=r.get(i);n.has(this)||n.add(this),cancelAnimationFrame(t),t=requestAnimationFrame(d)}},s.prototype.unobserve=function(i){if(i instanceof window.Element&&r.has(i)){var n=r.get(i);n.has(this)&&(n.delete(this),n.size||(r.delete(i),o.delete(i))),n.size||r.delete(i),o.size||cancelAnimationFrame(t)}},A.DOMRectReadOnly=c,A.ResizeObserver=s,A.ResizeObserverEntry=h,A}; // eslint-disable-line\nmpl.toolbar_items = [[\"Home\", \"Reset original view\", \"fa fa-home icon-home\", \"home\"], [\"Back\", \"Back to previous view\", \"fa fa-arrow-left icon-arrow-left\", \"back\"], [\"Forward\", \"Forward to next view\", \"fa fa-arrow-right icon-arrow-right\", \"forward\"], [\"\", \"\", \"\", \"\"], [\"Pan\", \"Left button pans, Right button zooms\\nx/y fixes axis, CTRL fixes aspect\", \"fa fa-arrows icon-move\", \"pan\"], [\"Zoom\", \"Zoom to rectangle\\nx/y fixes axis\", \"fa fa-square-o icon-check-empty\", \"zoom\"], [\"\", \"\", \"\", \"\"], [\"Download\", \"Download plot\", \"fa fa-floppy-o icon-save\", \"download\"]];\n\nmpl.extensions = [\"eps\", \"jpeg\", \"pgf\", \"pdf\", \"png\", \"ps\", \"raw\", \"svg\", \"tif\"];\n\nmpl.default_extension = \"png\";/* global mpl */\n\nvar comm_websocket_adapter = function (comm) {\n    // Create a \"websocket\"-like object which calls the given IPython comm\n    // object with the appropriate methods. Currently this is a non binary\n    // socket, so there is still some room for performance tuning.\n    var ws = {};\n\n    ws.binaryType = comm.kernel.ws.binaryType;\n    ws.readyState = comm.kernel.ws.readyState;\n    function updateReadyState(_event) {\n        if (comm.kernel.ws) {\n            ws.readyState = comm.kernel.ws.readyState;\n        } else {\n            ws.readyState = 3; // Closed state.\n        }\n    }\n    comm.kernel.ws.addEventListener('open', updateReadyState);\n    comm.kernel.ws.addEventListener('close', updateReadyState);\n    comm.kernel.ws.addEventListener('error', updateReadyState);\n\n    ws.close = function () {\n        comm.close();\n    };\n    ws.send = function (m) {\n        //console.log('sending', m);\n        comm.send(m);\n    };\n    // Register the callback with on_msg.\n    comm.on_msg(function (msg) {\n        //console.log('receiving', msg['content']['data'], msg);\n        var data = msg['content']['data'];\n        if (data['blob'] !== undefined) {\n            data = {\n                data: new Blob(msg['buffers'], { type: data['blob'] }),\n            };\n        }\n        // Pass the mpl event to the overridden (by mpl) onmessage function.\n        ws.onmessage(data);\n    });\n    return ws;\n};\n\nmpl.mpl_figure_comm = function (comm, msg) {\n    // This is the function which gets called when the mpl process\n    // starts-up an IPython Comm through the \"matplotlib\" channel.\n\n    var id = msg.content.data.id;\n    // Get hold of the div created by the display call when the Comm\n    // socket was opened in Python.\n    var element = document.getElementById(id);\n    var ws_proxy = comm_websocket_adapter(comm);\n\n    function ondownload(figure, _format) {\n        window.open(figure.canvas.toDataURL());\n    }\n\n    var fig = new mpl.figure(id, ws_proxy, ondownload, element);\n\n    // Call onopen now - mpl needs it, as it is assuming we've passed it a real\n    // web socket which is closed, not our websocket->open comm proxy.\n    ws_proxy.onopen();\n\n    fig.parent_element = element;\n    fig.cell_info = mpl.find_output_cell(\"<div id='\" + id + \"'></div>\");\n    if (!fig.cell_info) {\n        console.error('Failed to find cell for figure', id, fig);\n        return;\n    }\n    fig.cell_info[0].output_area.element.on(\n        'cleared',\n        { fig: fig },\n        fig._remove_fig_handler\n    );\n};\n\nmpl.figure.prototype.handle_close = function (fig, msg) {\n    var width = fig.canvas.width / fig.ratio;\n    fig.cell_info[0].output_area.element.off(\n        'cleared',\n        fig._remove_fig_handler\n    );\n    fig.resizeObserverInstance.unobserve(fig.canvas_div);\n\n    // Update the output cell to use the data from the current canvas.\n    fig.push_to_output();\n    var dataURL = fig.canvas.toDataURL();\n    // Re-enable the keyboard manager in IPython - without this line, in FF,\n    // the notebook keyboard shortcuts fail.\n    IPython.keyboard_manager.enable();\n    fig.parent_element.innerHTML =\n        '<img src=\"' + dataURL + '\" width=\"' + width + '\">';\n    fig.close_ws(fig, msg);\n};\n\nmpl.figure.prototype.close_ws = function (fig, msg) {\n    fig.send_message('closing', msg);\n    // fig.ws.close()\n};\n\nmpl.figure.prototype.push_to_output = function (_remove_interactive) {\n    // Turn the data on the canvas into data in the output cell.\n    var width = this.canvas.width / this.ratio;\n    var dataURL = this.canvas.toDataURL();\n    this.cell_info[1]['text/html'] =\n        '<img src=\"' + dataURL + '\" width=\"' + width + '\">';\n};\n\nmpl.figure.prototype.updated_canvas_event = function () {\n    // Tell IPython that the notebook contents must change.\n    IPython.notebook.set_dirty(true);\n    this.send_message('ack', {});\n    var fig = this;\n    // Wait a second, then push the new image to the DOM so\n    // that it is saved nicely (might be nice to debounce this).\n    setTimeout(function () {\n        fig.push_to_output();\n    }, 1000);\n};\n\nmpl.figure.prototype._init_toolbar = function () {\n    var fig = this;\n\n    var toolbar = document.createElement('div');\n    toolbar.classList = 'btn-toolbar';\n    this.root.appendChild(toolbar);\n\n    function on_click_closure(name) {\n        return function (_event) {\n            return fig.toolbar_button_onclick(name);\n        };\n    }\n\n    function on_mouseover_closure(tooltip) {\n        return function (event) {\n            if (!event.currentTarget.disabled) {\n                return fig.toolbar_button_onmouseover(tooltip);\n            }\n        };\n    }\n\n    fig.buttons = {};\n    var buttonGroup = document.createElement('div');\n    buttonGroup.classList = 'btn-group';\n    var button;\n    for (var toolbar_ind in mpl.toolbar_items) {\n        var name = mpl.toolbar_items[toolbar_ind][0];\n        var tooltip = mpl.toolbar_items[toolbar_ind][1];\n        var image = mpl.toolbar_items[toolbar_ind][2];\n        var method_name = mpl.toolbar_items[toolbar_ind][3];\n\n        if (!name) {\n            /* Instead of a spacer, we start a new button group. */\n            if (buttonGroup.hasChildNodes()) {\n                toolbar.appendChild(buttonGroup);\n            }\n            buttonGroup = document.createElement('div');\n            buttonGroup.classList = 'btn-group';\n            continue;\n        }\n\n        button = fig.buttons[name] = document.createElement('button');\n        button.classList = 'btn btn-default';\n        button.href = '#';\n        button.title = name;\n        button.innerHTML = '<i class=\"fa ' + image + ' fa-lg\"></i>';\n        button.addEventListener('click', on_click_closure(method_name));\n        button.addEventListener('mouseover', on_mouseover_closure(tooltip));\n        buttonGroup.appendChild(button);\n    }\n\n    if (buttonGroup.hasChildNodes()) {\n        toolbar.appendChild(buttonGroup);\n    }\n\n    // Add the status bar.\n    var status_bar = document.createElement('span');\n    status_bar.classList = 'mpl-message pull-right';\n    toolbar.appendChild(status_bar);\n    this.message = status_bar;\n\n    // Add the close button to the window.\n    var buttongrp = document.createElement('div');\n    buttongrp.classList = 'btn-group inline pull-right';\n    button = document.createElement('button');\n    button.classList = 'btn btn-mini btn-primary';\n    button.href = '#';\n    button.title = 'Stop Interaction';\n    button.innerHTML = '<i class=\"fa fa-power-off icon-remove icon-large\"></i>';\n    button.addEventListener('click', function (_evt) {\n        fig.handle_close(fig, {});\n    });\n    button.addEventListener(\n        'mouseover',\n        on_mouseover_closure('Stop Interaction')\n    );\n    buttongrp.appendChild(button);\n    var titlebar = this.root.querySelector('.ui-dialog-titlebar');\n    titlebar.insertBefore(buttongrp, titlebar.firstChild);\n};\n\nmpl.figure.prototype._remove_fig_handler = function (event) {\n    var fig = event.data.fig;\n    if (event.target !== this) {\n        // Ignore bubbled events from children.\n        return;\n    }\n    fig.close_ws(fig, {});\n};\n\nmpl.figure.prototype._root_extra_style = function (el) {\n    el.style.boxSizing = 'content-box'; // override notebook setting of border-box.\n};\n\nmpl.figure.prototype._canvas_extra_style = function (el) {\n    // this is important to make the div 'focusable\n    el.setAttribute('tabindex', 0);\n    // reach out to IPython and tell the keyboard manager to turn it's self\n    // off when our div gets focus\n\n    // location in version 3\n    if (IPython.notebook.keyboard_manager) {\n        IPython.notebook.keyboard_manager.register_events(el);\n    } else {\n        // location in version 2\n        IPython.keyboard_manager.register_events(el);\n    }\n};\n\nmpl.figure.prototype._key_event_extra = function (event, _name) {\n    // Check for shift+enter\n    if (event.shiftKey && event.which === 13) {\n        this.canvas_div.blur();\n        // select the cell after this one\n        var index = IPython.notebook.find_cell_index(this.cell_info[0]);\n        IPython.notebook.select(index + 1);\n    }\n};\n\nmpl.figure.prototype.handle_save = function (fig, _msg) {\n    fig.ondownload(fig, null);\n};\n\nmpl.find_output_cell = function (html_output) {\n    // Return the cell and output element which can be found *uniquely* in the notebook.\n    // Note - this is a bit hacky, but it is done because the \"notebook_saving.Notebook\"\n    // IPython event is triggered only after the cells have been serialised, which for\n    // our purposes (turning an active figure into a static one), is too late.\n    var cells = IPython.notebook.get_cells();\n    var ncells = cells.length;\n    for (var i = 0; i < ncells; i++) {\n        var cell = cells[i];\n        if (cell.cell_type === 'code') {\n            for (var j = 0; j < cell.output_area.outputs.length; j++) {\n                var data = cell.output_area.outputs[j];\n                if (data.data) {\n                    // IPython >= 3 moved mimebundle to data attribute of output\n                    data = data.data;\n                }\n                if (data['text/html'] === html_output) {\n                    return [cell, data, j];\n                }\n            }\n        }\n    }\n};\n\n// Register the function which deals with the matplotlib target/channel.\n// The kernel may be null if the page has been refreshed.\nif (IPython.notebook.kernel !== null) {\n    IPython.notebook.kernel.comm_manager.register_target(\n        'matplotlib',\n        mpl.mpl_figure_comm\n    );\n}\n"
     },
     "metadata": {},
     "output_type": "display_data"
    },
    {
     "data": {
      "text/plain": "<IPython.core.display.HTML object>",
      "text/html": "<div id='de13b440-daeb-45b8-9a1e-d694974ee0dc'></div>"
     },
     "metadata": {},
     "output_type": "display_data"
    },
    {
     "data": {
      "text/plain": "PyPlot3D backend, t = 14.950000000000077, scene:\n  UR10"
     },
     "execution_count": 75,
     "metadata": {},
     "output_type": "execute_result"
    }
   ],
   "source": [
    "# Trajectory using inverse kinematic solution for practical robot\n",
    "%matplotlib notebook\n",
    "qt = []\n",
    "last_point = practical_robot.qr\n",
    "a = last_point\n",
    "for i, n in enumerate(tqdm(desired_joint_angles)):\n",
    "    a = np.row_stack((a, rtb.jtraj(last_point, n, 1).q))\n",
    "    last_point = n\n",
    "practical_robot.plot(a, backend=\"pyplot\", movie=\"calibrated.gif\")\n",
    "#practical_robot.plot(a, backend=\"swift\")"
   ],
   "metadata": {
    "collapsed": false,
    "pycharm": {
     "name": "#%%\n"
    }
   }
  },
  {
   "cell_type": "code",
   "execution_count": 76,
   "outputs": [
    {
     "data": {
      "text/plain": "array([[-2.96000481e+00, -2.58562701e+00,  3.04825547e-01,\n        -8.60791186e-01,  1.38920848e+00, -2.47745239e-14],\n       [-2.96000481e+00, -2.58562701e+00,  3.04825547e-01,\n        -8.60791186e-01,  1.38920848e+00, -2.47745239e-14]])"
     },
     "execution_count": 76,
     "metadata": {},
     "output_type": "execute_result"
    }
   ],
   "source": [
    "a = np.row_stack((rtb.jtraj(last_point, n, 1).q, rtb.jtraj(last_point, n, 1).q))\n",
    "a"
   ],
   "metadata": {
    "collapsed": false,
    "pycharm": {
     "name": "#%%\n"
    }
   }
  },
  {
   "cell_type": "code",
   "execution_count": null,
   "outputs": [],
   "source": [],
   "metadata": {
    "collapsed": false,
    "pycharm": {
     "name": "#%%\n"
    }
   }
  },
  {
   "cell_type": "code",
   "execution_count": null,
   "outputs": [],
   "source": [],
   "metadata": {
    "collapsed": false,
    "pycharm": {
     "name": "#%%\n"
    }
   }
  }
 ],
 "metadata": {
  "kernelspec": {
   "display_name": "Python 3",
   "language": "python",
   "name": "python3"
  },
  "language_info": {
   "codemirror_mode": {
    "name": "ipython",
    "version": 2
   },
   "file_extension": ".py",
   "mimetype": "text/x-python",
   "name": "python",
   "nbconvert_exporter": "python",
   "pygments_lexer": "ipython2",
   "version": "2.7.6"
  }
 },
 "nbformat": 4,
 "nbformat_minor": 0
}